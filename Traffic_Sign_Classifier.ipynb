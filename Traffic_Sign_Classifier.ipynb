{
 "cells": [
  {
   "cell_type": "markdown",
   "metadata": {},
   "source": [
    "# Self-Driving Car Engineer Nanodegree\n",
    "\n",
    "## Deep Learning\n",
    "\n",
    "## Project: Build a Traffic Sign Recognition Classifier\n",
    "\n",
    "In this notebook, a template is provided for you to implement your functionality in stages which is required to successfully complete this project. If additional code is required that cannot be included in the notebook, be sure that the Python code is successfully imported and included in your submission, if necessary. Sections that begin with **'Implementation'** in the header indicate where you should begin your implementation for your project. Note that some sections of implementation are optional, and will be marked with **'Optional'** in the header.\n",
    "\n",
    "In addition to implementing code, there will be questions that you must answer which relate to the project and your implementation. Each section where you will answer a question is preceded by a **'Question'** header. Carefully read each question and provide thorough answers in the following text boxes that begin with **'Answer:'**. Your project submission will be evaluated based on your answers to each of the questions and the implementation you provide.\n",
    "\n",
    ">**Note:** Code and Markdown cells can be executed using the **Shift + Enter** keyboard shortcut. In addition, Markdown cells can be edited by typically double-clicking the cell to enter edit mode."
   ]
  },
  {
   "cell_type": "markdown",
   "metadata": {},
   "source": [
    "---\n",
    "## Step 0: Load The Data"
   ]
  },
  {
   "cell_type": "code",
   "execution_count": 1,
   "metadata": {
    "collapsed": false
   },
   "outputs": [],
   "source": [
    "# Load pickled data\n",
    "import pickle\n",
    "\n",
    "# TODO: Fill this in based on where you saved the training and testing data\n",
    "\n",
    "training_file = 'train.p'\n",
    "testing_file = 'test.p'\n",
    "\n",
    "with open(training_file, mode='rb') as f:\n",
    "    train = pickle.load(f)\n",
    "with open(testing_file, mode='rb') as f:\n",
    "    test = pickle.load(f)\n",
    "    \n",
    "X_train, y_train = train['features'], train['labels']\n",
    "X_test, y_test = test['features'], test['labels']"
   ]
  },
  {
   "cell_type": "markdown",
   "metadata": {},
   "source": [
    "---\n",
    "\n",
    "## Step 1: Dataset Summary & Exploration\n",
    "\n",
    "The pickled data is a dictionary with 4 key/value pairs:\n",
    "\n",
    "- `'features'` is a 4D array containing raw pixel data of the traffic sign images, (num examples, width, height, channels).\n",
    "- `'labels'` is a 1D array containing the label/class id of the traffic sign. The file `signnames.csv` contains id -> name mappings for each id.\n",
    "- `'sizes'` is a list containing tuples, (width, height) representing the the original width and height the image.\n",
    "- `'coords'` is a list containing tuples, (x1, y1, x2, y2) representing coordinates of a bounding box around the sign in the image. **THESE COORDINATES ASSUME THE ORIGINAL IMAGE. THE PICKLED DATA CONTAINS RESIZED VERSIONS (32 by 32) OF THESE IMAGES**\n",
    "\n",
    "Complete the basic data summary below."
   ]
  },
  {
   "cell_type": "code",
   "execution_count": 2,
   "metadata": {
    "collapsed": false,
    "scrolled": true
   },
   "outputs": [
    {
     "name": "stdout",
     "output_type": "stream",
     "text": [
      "Number of training examples = 39209\n",
      "Number of testing examples = 12630\n",
      "Image data shape = (32, 32)\n",
      "Number of classes = 43\n"
     ]
    }
   ],
   "source": [
    "### Replace each question mark with the appropriate value.\n",
    "\n",
    "# TODO: Number of training examples\n",
    "n_train = X_train.shape[0]\n",
    "\n",
    "# TODO: Number of testing examples.\n",
    "n_test = X_test.shape[0]\n",
    "\n",
    "# TODO: What's the shape of an traffic sign image?\n",
    "image_shape = (X_train.shape[1],X_train.shape[2])\n",
    "\n",
    "# TODO: How many unique classes/labels there are in the dataset.\n",
    "n_classes = len(set(y_train))\n",
    "\n",
    "print(\"Number of training examples =\", n_train)\n",
    "print(\"Number of testing examples =\", n_test)\n",
    "print(\"Image data shape =\", image_shape)\n",
    "print(\"Number of classes =\", n_classes)"
   ]
  },
  {
   "cell_type": "markdown",
   "metadata": {},
   "source": [
    "Visualize the German Traffic Signs Dataset using the pickled file(s). This is open ended, suggestions include: plotting traffic sign images, plotting the count of each sign, etc.\n",
    "\n",
    "The [Matplotlib](http://matplotlib.org/) [examples](http://matplotlib.org/examples/index.html) and [gallery](http://matplotlib.org/gallery.html) pages are a great resource for doing visualizations in Python.\n",
    "\n",
    "**NOTE:** It's recommended you start with something simple first. If you wish to do more, come back to it after you've completed the rest of the sections."
   ]
  },
  {
   "cell_type": "code",
   "execution_count": 3,
   "metadata": {
    "collapsed": false
   },
   "outputs": [
    {
     "data": {
      "image/png": "[encoded data removed]",
      "text/plain": [
       "<matplotlib.figure.Figure at 0x7f91f6c7cef0>"
      ]
     },
     "metadata": {},
     "output_type": "display_data"
    }
   ],
   "source": [
    "### Data exploration visualization goes here.\n",
    "### Feel free to use as many code cells as needed.\n",
    "import matplotlib.pyplot as plt\n",
    "# Visualizations will be shown in the notebook.\n",
    "%matplotlib inline\n",
    "\n",
    "import random\n",
    "import numpy as np\n",
    "import matplotlib.pyplot as plt\n",
    "%matplotlib inline\n",
    "\n",
    "classes = list(set(y_train))\n",
    "# classes_index will be dictionary: each class -> randomized set of indexes \n",
    "classes_index = {}\n",
    "for i,x in enumerate(y_train):\n",
    "    if x not in classes_index:\n",
    "        classes_index[x]=[i]\n",
    "    else:\n",
    "        classes_index[x].append(i)\n",
    "for c in classes:\n",
    "    random.shuffle(classes_index[c])\n",
    "\n",
    "# show classes histogram in training set\n",
    "plt.hist(y_train, bins=n_classes)    \n",
    "# show classes histogram in test set\n",
    "plt.hist(y_test, bins=n_classes)    \n",
    "classes_per_row = 12\n",
    "\n",
    "#fig, axes = plt.subplots(n_classes, classes_per_row, figsize=(10,n_classes))\n",
    "# print classes_per_row rows examples of each class\n",
    "#for i, ax in enumerate(axes.flat):\n",
    "#    ax.set_axis_off()\n",
    "#    ax.imshow(X_train[classes_index[int(i/classes_per_row)][i % classes_per_row]])\n",
    "plt.show()\n"
   ]
  },
  {
   "cell_type": "markdown",
   "metadata": {},
   "source": [
    "----\n",
    "\n",
    "## Step 2: Design and Test a Model Architecture\n",
    "\n",
    "Design and implement a deep learning model that learns to recognize traffic signs. Train and test your model on the [German Traffic Sign Dataset](http://benchmark.ini.rub.de/?section=gtsrb&subsection=dataset).\n",
    "\n",
    "There are various aspects to consider when thinking about this problem:\n",
    "\n",
    "- Neural network architecture\n",
    "- Play around preprocessing techniques (normalization, rgb to grayscale, etc)\n",
    "- Number of examples per label (some have more than others).\n",
    "- Generate fake data.\n",
    "\n",
    "Here is an example of a [published baseline model on this problem](http://yann.lecun.com/exdb/publis/pdf/sermanet-ijcnn-11.pdf). It's not required to be familiar with the approach used in the paper but, it's good practice to try to read papers like these.\n",
    "\n",
    "**NOTE:** The LeNet-5 implementation shown in the [classroom](https://classroom.udacity.com/nanodegrees/nd013/parts/fbf77062-5703-404e-b60c-95b78b2f3f9e/modules/6df7ae49-c61c-4bb2-a23e-6527e69209ec/lessons/601ae704-1035-4287-8b11-e2c2716217ad/concepts/d4aca031-508f-4e0b-b493-e7b706120f81) at the end of the CNN lesson is a solid starting point. You'll have to change the number of classes and possibly the preprocessing, but aside from that it's plug and play!"
   ]
  },
  {
   "cell_type": "markdown",
   "metadata": {},
   "source": [
    "### Implementation\n",
    "\n",
    "Use the code cell (or multiple code cells, if necessary) to implement the first step of your project. Once you have completed your implementation and are satisfied with the results, be sure to thoroughly answer the questions that follow."
   ]
  },
  {
   "cell_type": "code",
   "execution_count": 4,
   "metadata": {
    "collapsed": false
   },
   "outputs": [
    {
     "name": "stdout",
     "output_type": "stream",
     "text": [
      "145669\n",
      "float64\n",
      "(39209, 32, 32, 3)\n",
      "(784180, 32, 32, 3)\n",
      "(784180, 32, 32, 3)\n",
      "uint8\n",
      "(12630, 32, 32, 3)\n",
      "(12630, 32, 32, 3)\n",
      "uint8\n",
      "uint8\n"
     ]
    },
    {
     "data": {
      "image/png": "[encoded data removed]",
      "text/plain": [
       "<matplotlib.figure.Figure at 0x7f91f150eef0>"
      ]
     },
     "metadata": {},
     "output_type": "display_data"
    },
    {
     "name": "stdout",
     "output_type": "stream",
     "text": [
      "(39209, 32, 32, 3)\n",
      "(39209, 32, 32, 3)\n",
      "uint8\n"
     ]
    },
    {
     "data": {
      "image/png": "[encoded data removed]",
      "text/plain": [
       "<matplotlib.figure.Figure at 0x7f91d9b72eb8>"
      ]
     },
     "metadata": {},
     "output_type": "display_data"
    },
    {
     "data": {
      "image/png": "[encoded data removed]",
      "text/plain": [
       "<matplotlib.figure.Figure at 0x7f91d9b09f28>"
      ]
     },
     "metadata": {},
     "output_type": "display_data"
    },
    {
     "name": "stdout",
     "output_type": "stream",
     "text": [
      "(784180, 32, 32, 3)\n",
      "(784180,)\n"
     ]
    }
   ],
   "source": [
    "### Preprocess the data here.\n",
    "### Feel free to use as many code cells as needed.\n",
    "import cv2\n",
    "print(np.sum(X_train[0,:,:,0]))\n",
    "print((np.array(X_train[0,:,:,0], dtype=float)).dtype)\n",
    "\n",
    "# Convert to float\n",
    "\n",
    "# For each train example: normalize each RGB channel (independently of each other) from 0. to 1.\n",
    "# Changes color balance so jury still our whether this will work or not\n",
    "def normalize_max_per_channel(items):\n",
    "    for train_example in range(items.shape[0]):\n",
    "        for channel in range(3):\n",
    "            channelpeak = np.max(items[train_example,:,:,channel])\n",
    "            items[train_example,:,:,channel] /= channelpeak\n",
    "    return items\n",
    "            \n",
    "# For each train example: normalize each RGB channel to peak value 1.\n",
    "def normalize_max(items):\n",
    "    for train_example in range(items.shape[0]):\n",
    "        channelpeak = np.max(items[train_example,:,:,:])\n",
    "        items[train_example,:,:,:] /= channelpeak\n",
    "    print(items.dtype)\n",
    "    return items\n",
    "\n",
    "# For each train example: normalize each RGB channel to [0.,1.]\n",
    "def normalize_max_min(items):\n",
    "    if items.dtype != float:\n",
    "        fitems = np.array(items, dtype=float)\n",
    "        print(\"Converting to float\")\n",
    "    else:\n",
    "        fitems = items\n",
    "        print(\"Items already float\")\n",
    "    normalized = np.empty_like(fitems)\n",
    "    print(fitems.shape)\n",
    "    for item in range(fitems.shape[0]):\n",
    "        channelmin  = np.min(fitems[item,:,:,:])\n",
    "        channelpeak = np.max(fitems[item,:,:,:])\n",
    "        normalized[item,:,:,:] = (fitems[item,:,:,:] - channelmin) / (channelpeak - channelmin)\n",
    "    print(normalized.dtype)\n",
    "    return normalized\n",
    "\n",
    "def normalize_yuv(items):\n",
    "    normalized = np.copy(items)\n",
    "    print(items.shape)\n",
    "    for item in range(items.shape[0]):\n",
    "        channelmin  = np.min(items[item,:,:,0]).astype(float)\n",
    "        channelpeak = np.max(items[item,:,:,0]).astype(float)\n",
    "        normalized[item,:,:,0] = (255.0 * (items[item,:,:,0].astype(float) - channelmin) / (channelpeak - channelmin)).astype(normalized.dtype)\n",
    "    print(normalized.dtype)\n",
    "    return normalized\n",
    "\n",
    "def to_yuv(items):\n",
    "    yuv_item = np.empty_like(items)\n",
    "    for item in range(items.shape[0]):\n",
    "        yuv_item[item,:,:,:] = cv2.cvtColor(items[item,:,:,:], cv2.COLOR_RGB2YCrCb)\n",
    "    print(yuv_item.shape)\n",
    "    return yuv_item\n",
    "\n",
    "def fake_items(items):\n",
    "    faked = np.empty_like(items)\n",
    "    cols,rows = image_shape\n",
    "    for item in range(items.shape[0]):\n",
    "        M = cv2.getRotationMatrix2D((cols/2+random.randint(-2,2),rows/2+random.randint(-2,2)),random.uniform(-10,10),random.uniform(0.9,1.1))\n",
    "        faked[item,:,:,:] = cv2.warpAffine(items[item,:,:,:],M,(cols,rows))\n",
    "    return faked\n",
    "\n",
    "print(X_train.shape)\n",
    "fake_factor = 20\n",
    "X_train_faked = np.array([],dtype=X_train.dtype).reshape((0,32,32,3))\n",
    "y_train_faked = []\n",
    "for i in range(fake_factor):\n",
    "    X_train_faked = np.concatenate((X_train_faked, fake_items(X_train)))\n",
    "    y_train_faked = np.concatenate((y_train_faked, y_train))\n",
    "X_train_faked = normalize_yuv(to_yuv(X_train_faked))\n",
    "X_test_normalized = normalize_yuv(to_yuv(X_test))\n",
    "print(X_train_faked.dtype)\n",
    "plt.imshow(X_train[classes_index[1][0]])\n",
    "plt.show()\n",
    "plt.imshow(normalize_yuv(to_yuv(X_train))[classes_index[1][0]])\n",
    "plt.show()\n",
    "fig, axes = plt.subplots(3, 12, figsize=(10,3))\n",
    "# print classes_per_row rows examples of each class\n",
    "for i, ax in enumerate(axes.flat):\n",
    "    ax.set_axis_off()\n",
    "    ax.imshow(X_train_faked[classes_index[int(i/classes_per_row)][i % classes_per_row]])\n",
    "plt.show()\n",
    "print(X_train_faked.shape)\n",
    "print(y_train_faked.shape)"
   ]
  },
  {
   "cell_type": "markdown",
   "metadata": {},
   "source": [
    "### Question 1 \n",
    "\n",
    "_Describe how you preprocessed the data. Why did you choose that technique?_"
   ]
  },
  {
   "cell_type": "markdown",
   "metadata": {},
   "source": [
    "**Answer:**"
   ]
  },
  {
   "cell_type": "code",
   "execution_count": 5,
   "metadata": {
    "collapsed": false
   },
   "outputs": [],
   "source": [
    "### Generate data additional data (OPTIONAL!)\n",
    "### and split the data into training/validation/testing sets here.\n",
    "### Feel free to use as many code cells as needed.\n",
    "\n",
    "from sklearn.utils import shuffle\n",
    "from sklearn.model_selection import train_test_split\n",
    "\n",
    "\n",
    "X_train, y_train = shuffle(X_train, y_train)\n",
    "\n",
    "X_train_augmented, X_validate, y_train_augmented, y_validate = train_test_split(X_train, y_train, test_size=0.2, random_state=0)\n",
    "\n",
    "X_train_augmented = np.concatenate((X_train_augmented, X_train_faked))\n",
    "y_train_augmented = np.concatenate((y_train_augmented, y_train_faked))\n",
    "\n",
    "X_train_augmented, y_train_augmented = shuffle(X_train_augmented, y_train_augmented)"
   ]
  },
  {
   "cell_type": "markdown",
   "metadata": {},
   "source": [
    "### Question 2\n",
    "\n",
    "_Describe how you set up the training, validation and testing data for your model. **Optional**: If you generated additional data, how did you generate the data? Why did you generate the data? What are the differences in the new dataset (with generated data) from the original dataset?_"
   ]
  },
  {
   "cell_type": "markdown",
   "metadata": {},
   "source": [
    "**Answer:**"
   ]
  },
  {
   "cell_type": "code",
   "execution_count": 6,
   "metadata": {
    "collapsed": false
   },
   "outputs": [],
   "source": [
    "### Define your architecture here.\n",
    "### Feel free to use as many code cells as needed.\n",
    "\n",
    "import tensorflow as tf\n",
    "\n",
    "EPOCHS = 100\n",
    "BATCH_SIZE = 1024\n",
    "\n",
    "from tensorflow.contrib.layers import flatten\n",
    "tf.reset_default_graph()\n",
    "\n",
    "def LeNet(x):    \n",
    "    # Arguments used for tf.truncated_normal, randomly defines variables for the weights and biases for each layer\n",
    "    \n",
    "    # TODO: Layer 1: Convolutional. Input = 32x32x1. Output = 28x28x6.\n",
    "    Y_features  = 100\n",
    "    UV_features = 8\n",
    "    S1_features = Y_features + UV_features\n",
    "    (x_y,x_u,x_v) = tf.split(3,3,x)\n",
    "    x_uv = tf.concat(3,[x_u,x_v])\n",
    "\n",
    "    L1Y_W = tf.get_variable(\"L1Y_W\", shape=[5, 5, 1, Y_features], initializer=tf.contrib.layers.xavier_initializer())\n",
    "    L1Y_b = tf.Variable(tf.zeros(Y_features))\n",
    "    L1Y = tf.nn.bias_add(tf.nn.conv2d(x_y, L1Y_W, [1,1,1,1], 'VALID'), L1Y_b)\n",
    "    L1UV_W = tf.get_variable(\"L1UV_W\", shape=[5, 5, 2, UV_features], initializer=tf.contrib.layers.xavier_initializer())\n",
    "    L1UV_b = tf.Variable(tf.zeros(UV_features))\n",
    "    L1UV = tf.nn.bias_add(tf.nn.conv2d(x_uv, L1UV_W, [1,1,1,1], 'VALID'), L1UV_b)\n",
    "    L1a = tf.concat(3,[L1Y,L1UV])\n",
    "    print(L1a.get_shape())\n",
    "\n",
    "    # TODO: Activation.\n",
    "    L1b = tf.nn.relu(L1a)\n",
    "    print(L1b.get_shape())\n",
    "\n",
    "    # TODO: Pooling. Input = 28x28xS1_features. Output = 14x14xS1_features.\n",
    "    L1c = tf.nn.max_pool(L1b, [1,2,2,1], [1,2,2,1], 'VALID')\n",
    "    L1cf = flatten(L1c)\n",
    "    print(L1c.get_shape())\n",
    "\n",
    "    # TODO: Layer 2: Convolutional. Input = 14x14xS1_features, Output = 10x10xS2_features.\n",
    "    S2_features = 108\n",
    "    L2a_W = tf.get_variable(\"L2a_W\", shape=[5, 5, S1_features, S2_features], initializer=tf.contrib.layers.xavier_initializer())\n",
    "    L2a_b = tf.Variable(tf.zeros(S2_features))\n",
    "    L2a =  tf.nn.bias_add(tf.nn.conv2d(L1c, L2a_W, [1,1,1,1], 'VALID'), L2a_b)\n",
    "    print(L2a.get_shape())\n",
    "        \n",
    "    # TODO: Activation.\n",
    "    L2b = tf.nn.relu(L2a)\n",
    "    print(L2b.get_shape())\n",
    "\n",
    "    # TODO: Pooling. Input = 10x10xS2_features. Output = 5x5xS2_features.\n",
    "    L2c = tf.nn.max_pool(L2b, [1,2,2,1], [1,2,2,1], 'VALID')\n",
    "    print(L2c.get_shape())\n",
    "\n",
    "    # TODO: Flatten. Input = 5x5xS2_features. Output = Same.\n",
    "    L2d = tf.contrib.layers.flatten(L2c)\n",
    "    print(L2d.get_shape())\n",
    "    \n",
    "    # TODO: Layer 3: Fully Connected. Input = 5x5xS2_features. Output = 120.\n",
    "    #L3_W = tf.get_variable(name=\"L3_W\",shape=[5*5*S2_features+14*14*S1_features, 120], initializer=tf.contrib.layers.xavier_initializer())\n",
    "    #L3_b = tf.Variable(tf.zeros(120))\n",
    "    #L3 = tf.nn.relu(tf.matmul(tf.concat(1,[L2d,L1cf]), L3_W) + L3_b)\n",
    "    \n",
    "    #TODO: Layer 4: Fully Connected. Input = 120. Output = 84. DROPOUT\n",
    "    L4_W = tf.get_variable(name=\"L4_W\",shape=[5*5*S2_features+14*14*S1_features, 1024], initializer=tf.contrib.layers.xavier_initializer())\n",
    "    L4_b = tf.Variable(tf.zeros(1024))\n",
    "    L4 =  tf.nn.dropout(tf.nn.relu( tf.nn.bias_add(tf.matmul(tf.concat(1,[L2d,L1cf]), L4_W),L4_b)), keep_prob)\n",
    "    \n",
    "    # TODO: Layer 5: Fully Connected. Input = 84. Output = n_classes.\n",
    "    L5_W = tf.get_variable(name=\"L5_W\",shape=[1024, n_classes], initializer=tf.contrib.layers.xavier_initializer())\n",
    "    L5_b = tf.Variable(tf.zeros(n_classes))\n",
    "    logits =  tf.nn.bias_add(tf.matmul(L4, L5_W), L5_b)\n",
    "    \n",
    "    return logits\n",
    "\n"
   ]
  },
  {
   "cell_type": "code",
   "execution_count": 7,
   "metadata": {
    "collapsed": false
   },
   "outputs": [
    {
     "name": "stdout",
     "output_type": "stream",
     "text": [
      "(?, 28, 28, 108)\n",
      "(?, 28, 28, 108)\n",
      "(?, 14, 14, 108)\n",
      "(?, 10, 10, 108)\n",
      "(?, 10, 10, 108)\n",
      "(?, 5, 5, 108)\n",
      "(?, 2700)\n"
     ]
    }
   ],
   "source": [
    "x = tf.placeholder(tf.float32, (None, 32, 32, 3))\n",
    "y = tf.placeholder(tf.int32, (None))\n",
    "keep_prob = tf.placeholder(tf.float32)\n",
    "\n",
    "one_hot_y = tf.one_hot(y, n_classes)\n",
    "\n",
    "rate = 0.001\n",
    "\n",
    "logits = LeNet(x)\n",
    "cross_entropy = tf.nn.softmax_cross_entropy_with_logits(logits, one_hot_y)\n",
    "loss_operation = tf.reduce_mean(cross_entropy)\n",
    "optimizer = tf.train.AdamOptimizer(learning_rate = rate)\n",
    "training_operation = optimizer.minimize(loss_operation)"
   ]
  },
  {
   "cell_type": "code",
   "execution_count": 8,
   "metadata": {
    "collapsed": false
   },
   "outputs": [],
   "source": [
    "correct_prediction = tf.equal(tf.argmax(logits, 1), tf.argmax(one_hot_y, 1))\n",
    "accuracy_operation = tf.reduce_mean(tf.cast(correct_prediction, tf.float32))\n",
    "saver = tf.train.Saver()\n",
    "\n",
    "def evaluate(X_data, y_data):\n",
    "    num_examples = len(X_data)\n",
    "    total_accuracy = 0\n",
    "    sess = tf.get_default_session()\n",
    "    for offset in range(0, num_examples, BATCH_SIZE):\n",
    "        batch_x, batch_y = X_data[offset:offset+BATCH_SIZE], y_data[offset:offset+BATCH_SIZE]\n",
    "        accuracy = sess.run(accuracy_operation, feed_dict={x: batch_x, y: batch_y, keep_prob: 1.0})\n",
    "        total_accuracy += (accuracy * len(batch_x))\n",
    "    return total_accuracy / num_examples"
   ]
  },
  {
   "cell_type": "code",
   "execution_count": null,
   "metadata": {
    "collapsed": false
   },
   "outputs": [
    {
     "name": "stdout",
     "output_type": "stream",
     "text": [
      "Training...\n",
      "\n",
      "Model saved\n",
      "EPOCH 1 ... took 108 seconds\n",
      "Validation Accuracy = 0.994\n",
      "\n",
      "EPOCH 2 ... took 126 seconds\n",
      "Validation Accuracy = 0.988\n",
      "\n",
      "Model saved\n",
      "EPOCH 3 ... took 105 seconds\n",
      "Validation Accuracy = 0.994\n",
      "\n",
      "Model saved\n",
      "EPOCH 4 ... took 131 seconds\n",
      "Validation Accuracy = 0.997\n",
      "\n",
      "EPOCH 5 ... took 107 seconds\n",
      "Validation Accuracy = 0.996\n",
      "\n",
      "EPOCH 6 ... took 132 seconds\n",
      "Validation Accuracy = 0.995\n",
      "\n",
      "Model saved\n",
      "EPOCH 7 ... took 105 seconds\n",
      "Validation Accuracy = 0.997\n",
      "\n",
      "EPOCH 8 ... took 103 seconds\n",
      "Validation Accuracy = 0.993\n",
      "\n",
      "EPOCH 9 ... took 103 seconds\n",
      "Validation Accuracy = 0.991\n",
      "\n"
     ]
    }
   ],
   "source": [
    "from time import time\n",
    "\n",
    "for dropout in [75.,50.,25.,10.,0.]\n",
    "    with tf.Session() as sess:\n",
    "        sess.run(tf.global_variables_initializer())\n",
    "        num_examples = len(X_train_augmented)\n",
    "\n",
    "        print(\"Training...\")\n",
    "        print()\n",
    "        max_validation_accuracy = 0.\n",
    "        decreasing_accuracy_epochs = 0\n",
    "\n",
    "        first_epoch = last_epoch = time()\n",
    "\n",
    "        for i in range(EPOCHS):\n",
    "            X_train_augmented, y_train_augmented = shuffle(X_train_augmented, y_train_augmented)\n",
    "            for offset in range(0, num_examples, BATCH_SIZE):\n",
    "                end = offset + BATCH_SIZE\n",
    "                batch_x, batch_y = X_train_augmented[offset:end], y_train_augmented[offset:end]\n",
    "                sess.run(training_operation, feed_dict={x: batch_x, y: batch_y, keep_prob: 1.-dropout})\n",
    "\n",
    "            validation_accuracy = evaluate(X_validate, y_validate)\n",
    "            if validation_accuracy > max_validation_accuracy:\n",
    "                max_validation_accuracy = validation_accuracy\n",
    "                decreasing_accuracy_epochs = 0\n",
    "                saver.save(sess, 'sermanet-inspired')\n",
    "                print(\"Model saved\")\n",
    "                if validation_accuracy >= 0.999:\n",
    "                    print(\"Great accuracy achieved, stopping now!\")\n",
    "                    break    \n",
    "            else:\n",
    "                decreasing_accuracy_epochs += 1\n",
    "                if (decreasing_accuracy_epochs >= 5):\n",
    "                    print(\"Stopping training after too many decreasing accuracy epochs\")\n",
    "                    break\n",
    "\n",
    "            current_time = time()\n",
    "            epoch_time = current_time - last_epoch\n",
    "            last_epoch = current_time\n",
    "\n",
    "            print(\"EPOCH {} ... took {:.0f} seconds\".format(i+1, epoch_time))\n",
    "            print(\"Validation Accuracy = {:.3f}\".format(validation_accuracy))\n",
    "            print()\n",
    "\n",
    "        print(\"Training took {:.0f} seconds. Dropout: {:.0f}%\".format(last_epoch - first_epoch, dropout * 100.))\n",
    "\n",
    "        with tf.Session() as sess:\n",
    "        saver.restore(sess, tf.train.latest_checkpoint('.'))\n",
    "\n",
    "        test_accuracy = evaluate(X_test_normalized, y_test)\n",
    "        print(\"Test Accuracy = {:.3f}\".format(test_accuracy))\n"
   ]
  },
  {
   "cell_type": "markdown",
   "metadata": {},
   "source": [
    "### Question 3\n",
    "\n",
    "_What does your final architecture look like? (Type of model, layers, sizes, connectivity, etc.)  For reference on how to build a deep neural network using TensorFlow, see [Deep Neural Network in TensorFlow\n",
    "](https://classroom.udacity.com/nanodegrees/nd013/parts/fbf77062-5703-404e-b60c-95b78b2f3f9e/modules/6df7ae49-c61c-4bb2-a23e-6527e69209ec/lessons/b516a270-8600-4f93-a0a3-20dfeabe5da6/concepts/83a3a2a2-a9bd-4b7b-95b0-eb924ab14432) from the classroom._\n"
   ]
  },
  {
   "cell_type": "markdown",
   "metadata": {},
   "source": [
    "**Answer:**"
   ]
  },
  {
   "cell_type": "code",
   "execution_count": null,
   "metadata": {
    "collapsed": true
   },
   "outputs": [],
   "source": [
    "### Train your model here.\n",
    "### Feel free to use as many code cells as needed."
   ]
  },
  {
   "cell_type": "code",
   "execution_count": null,
   "metadata": {
    "collapsed": false
   },
   "outputs": [],
   "source": [
    "with tf.Session() as sess:\n",
    "    saver.restore(sess, tf.train.latest_checkpoint('.'))\n",
    "    \n",
    "    test_accuracy = evaluate(X_test_normalized, y_test)\n",
    "    print(\"Test Accuracy = {:.3f}\".format(test_accuracy))"
   ]
  },
  {
   "cell_type": "markdown",
   "metadata": {},
   "source": [
    "### Question 4\n",
    "\n",
    "_How did you train your model? (Type of optimizer, batch size, epochs, hyperparameters, etc.)_\n"
   ]
  },
  {
   "cell_type": "markdown",
   "metadata": {},
   "source": [
    "**Answer:**"
   ]
  },
  {
   "cell_type": "markdown",
   "metadata": {},
   "source": [
    "### Question 5\n",
    "\n",
    "\n",
    "_What approach did you take in coming up with a solution to this problem? It may have been a process of trial and error, in which case, outline the steps you took to get to the final solution and why you chose those steps. Perhaps your solution involved an already well known implementation or architecture. In this case, discuss why you think this is suitable for the current problem._"
   ]
  },
  {
   "cell_type": "markdown",
   "metadata": {},
   "source": [
    "**Answer:**"
   ]
  },
  {
   "cell_type": "markdown",
   "metadata": {},
   "source": [
    "---\n",
    "\n",
    "## Step 3: Test a Model on New Images\n",
    "\n",
    "Take several pictures of traffic signs that you find on the web or around you (at least five), and run them through your classifier on your computer to produce example results. The classifier might not recognize some local signs but it could prove interesting nonetheless.\n",
    "\n",
    "You may find `signnames.csv` useful as it contains mappings from the class id (integer) to the actual sign name."
   ]
  },
  {
   "cell_type": "markdown",
   "metadata": {},
   "source": [
    "### Implementation\n",
    "\n",
    "Use the code cell (or multiple code cells, if necessary) to implement the first step of your project. Once you have completed your implementation and are satisfied with the results, be sure to thoroughly answer the questions that follow."
   ]
  },
  {
   "cell_type": "code",
   "execution_count": null,
   "metadata": {
    "collapsed": true
   },
   "outputs": [],
   "source": [
    "### Load the images and plot them here.\n",
    "### Feel free to use as many code cells as needed."
   ]
  },
  {
   "cell_type": "markdown",
   "metadata": {},
   "source": [
    "### Question 6\n",
    "\n",
    "_Choose five candidate images of traffic signs and provide them in the report. Are there any particular qualities of the image(s) that might make classification difficult? It could be helpful to plot the images in the notebook._\n",
    "\n"
   ]
  },
  {
   "cell_type": "markdown",
   "metadata": {},
   "source": [
    "**Answer:**"
   ]
  },
  {
   "cell_type": "code",
   "execution_count": null,
   "metadata": {
    "collapsed": true
   },
   "outputs": [],
   "source": [
    "### Run the predictions here.\n",
    "### Feel free to use as many code cells as needed."
   ]
  },
  {
   "cell_type": "markdown",
   "metadata": {},
   "source": [
    "### Question 7\n",
    "\n",
    "_Is your model able to perform equally well on captured pictures when compared to testing on the dataset? The simplest way to do this check the accuracy of the predictions. For example, if the model predicted 1 out of 5 signs correctly, it's 20% accurate._\n",
    "\n",
    "_**NOTE:** You could check the accuracy manually by using `signnames.csv` (same directory). This file has a mapping from the class id (0-42) to the corresponding sign name. So, you could take the class id the model outputs, lookup the name in `signnames.csv` and see if it matches the sign from the image._\n"
   ]
  },
  {
   "cell_type": "markdown",
   "metadata": {},
   "source": [
    "**Answer:**"
   ]
  },
  {
   "cell_type": "code",
   "execution_count": null,
   "metadata": {
    "collapsed": true
   },
   "outputs": [],
   "source": [
    "### Visualize the softmax probabilities here.\n",
    "### Feel free to use as many code cells as needed."
   ]
  },
  {
   "cell_type": "markdown",
   "metadata": {},
   "source": [
    "### Question 8\n",
    "\n",
    "*Use the model's softmax probabilities to visualize the **certainty** of its predictions, [`tf.nn.top_k`](https://www.tensorflow.org/versions/r0.12/api_docs/python/nn.html#top_k) could prove helpful here. Which predictions is the model certain of? Uncertain? If the model was incorrect in its initial prediction, does the correct prediction appear in the top k? (k should be 5 at most)*\n",
    "\n",
    "`tf.nn.top_k` will return the values and indices (class ids) of the top k predictions. So if k=3, for each sign, it'll return the 3 largest probabilities (out of a possible 43) and the correspoding class ids.\n",
    "\n",
    "Take this numpy array as an example:\n",
    "\n",
    "```\n",
    "# (5, 6) array\n",
    "a = np.array([[ 0.24879643,  0.07032244,  0.12641572,  0.34763842,  0.07893497,\n",
    "         0.12789202],\n",
    "       [ 0.28086119,  0.27569815,  0.08594638,  0.0178669 ,  0.18063401,\n",
    "         0.15899337],\n",
    "       [ 0.26076848,  0.23664738,  0.08020603,  0.07001922,  0.1134371 ,\n",
    "         0.23892179],\n",
    "       [ 0.11943333,  0.29198961,  0.02605103,  0.26234032,  0.1351348 ,\n",
    "         0.16505091],\n",
    "       [ 0.09561176,  0.34396535,  0.0643941 ,  0.16240774,  0.24206137,\n",
    "         0.09155967]])\n",
    "```\n",
    "\n",
    "Running it through `sess.run(tf.nn.top_k(tf.constant(a), k=3))` produces:\n",
    "\n",
    "```\n",
    "TopKV2(values=array([[ 0.34763842,  0.24879643,  0.12789202],\n",
    "       [ 0.28086119,  0.27569815,  0.18063401],\n",
    "       [ 0.26076848,  0.23892179,  0.23664738],\n",
    "       [ 0.29198961,  0.26234032,  0.16505091],\n",
    "       [ 0.34396535,  0.24206137,  0.16240774]]), indices=array([[3, 0, 5],\n",
    "       [0, 1, 4],\n",
    "       [0, 5, 1],\n",
    "       [1, 3, 5],\n",
    "       [1, 4, 3]], dtype=int32))\n",
    "```\n",
    "\n",
    "Looking just at the first row we get `[ 0.34763842,  0.24879643,  0.12789202]`, you can confirm these are the 3 largest probabilities in `a`. You'll also notice `[3, 0, 5]` are the corresponding indices."
   ]
  },
  {
   "cell_type": "markdown",
   "metadata": {},
   "source": [
    "**Answer:**"
   ]
  },
  {
   "cell_type": "markdown",
   "metadata": {},
   "source": [
    "> **Note**: Once you have completed all of the code implementations and successfully answered each question above, you may finalize your work by exporting the iPython Notebook as an HTML document. You can do this by using the menu above and navigating to  \\n\",\n",
    "    \"**File -> Download as -> HTML (.html)**. Include the finished document along with this notebook as your submission."
   ]
  },
  {
   "cell_type": "code",
   "execution_count": null,
   "metadata": {
    "collapsed": true
   },
   "outputs": [],
   "source": []
  }
 ],
 "metadata": {
  "anaconda-cloud": {},
  "kernelspec": {
   "display_name": "Python 3",
   "language": "python",
   "name": "python3"
  },
  "language_info": {
   "codemirror_mode": {
    "name": "ipython",
    "version": 3
   },
   "file_extension": ".py",
   "mimetype": "text/x-python",
   "name": "python",
   "nbconvert_exporter": "python",
   "pygments_lexer": "ipython3",
   "version": "3.5.2"
  },
  "widgets": {
   "state": {},
   "version": "1.1.2"
  }
 },
 "nbformat": 4,
 "nbformat_minor": 1
}
